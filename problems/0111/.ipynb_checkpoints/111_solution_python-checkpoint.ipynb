{
 "cells": [
  {
   "cell_type": "markdown",
   "metadata": {},
   "source": [
    "<h1>111. Minimum <strike>Depth</strike> level of Binary Tree</h1>\n",
    "<hr>\n",
    "\n",
    "<!--Copy Paste Leetcode statement between-->\n",
    "<p>Given a binary tree, find its minimum <strike>depth</strike> level.</p>\n",
    "\n",
    "<p>The minimum <strike>depth</strike> level is the number of nodes along the shortest path from the root node down to the nearest leaf node. </p>\n",
    "\n",
    "<p><strong>Note:</strong>&nbsp; See <a href=\"https://nbviewer.jupyter.org/github/adrien-perelloyb/leetcode/blob/main/lessons/tree_traversals.ipynb\">here</a> for a reminder on the difference between depth and level</p></p>\n",
    "\n",
    "<p>&nbsp;</p>\n",
    "<p><strong>Example 1:</strong></p>\n",
    "<img alt=\"\" src=\"./img1.jpeg\" style=\"width: 432px; height: 302px;\">\n",
    "<pre><strong>Input:</strong> root = [3,9,20,null,null,15,7]\n",
    "<strong>Output:</strong> 2\n",
    "</pre>\n",
    "\n",
    "<p><strong>Example 2:</strong></p>\n",
    "\n",
    "<pre><strong>Input:</strong> root = [2,null,3,null,4,null,5,null,6]\n",
    "<strong>Output:</strong> 5\n",
    "</pre>\n",
    "\n",
    "<p>&nbsp;</p>\n",
    "<p><strong>Constraints:</strong></p>\n",
    "\n",
    "<ul>\n",
    "\t<li>The number of nodes in the tree is in the range <code>[0, 10<sup>5</sup>]</code>.</li>\n",
    "\t<li><code>-1000 &lt;= Node.val &lt;= 1000</code></li>\n",
    "</ul>\n",
    "<!--Copy Paste Leetcode statement between-->\n",
    "\n",
    "<p>&nbsp;</p>\n",
    "<a href=\"https://leetcode.com/problems/minimum-depth-of-binary-tree/\">Source</a> \n",
    "<hr>"
   ]
  },
  {
   "cell_type": "code",
   "execution_count": 1,
   "metadata": {},
   "outputs": [],
   "source": [
    "# Definition for a binary tree node.\n",
    "class TreeNode:\n",
    "    def __init__(self, val=0, left=None, right=None):\n",
    "        self.val = val\n",
    "        self.left = left\n",
    "        self.right = right"
   ]
  },
  {
   "cell_type": "markdown",
   "metadata": {},
   "source": [
    "<h4>Code</h4>"
   ]
  },
  {
   "cell_type": "code",
   "execution_count": 2,
   "metadata": {},
   "outputs": [],
   "source": [
    "def min_level(root):\n",
    "    \"\"\"The following intuition does not work !!!\n",
    "    Note: It would work for max depth (see leetcode 104)\n",
    "\n",
    "    Counter example -  Input: root = [2,null,3,null,4,null,5,null,6]\n",
    "      2\n",
    "       \\\n",
    "        3\n",
    "         \\\n",
    "          4\n",
    "           \\\n",
    "            5\n",
    "             \\\n",
    "              6\n",
    "    Output: 5 (and not 1)\n",
    "    \"\"\"\n",
    "    if not root:\n",
    "        return -1\n",
    "    left = min_depth(root.left)    # we need to account for the case\n",
    "    right = min_depth(root.right)  # when current node has only one child\n",
    "    return 1 + min(left, right)"
   ]
  },
  {
   "cell_type": "code",
   "execution_count": 3,
   "metadata": {},
   "outputs": [],
   "source": [
    "def min_level(root):\n",
    "    \"\"\"Recursive approach using DFS traversal (preorder / postorder)\"\"\"\n",
    "    if root is None:\n",
    "        return 0    # strictly speaking depth(root) = 0 and depth(None)=-1 (by convention)\n",
    "    if root.left is None and root.right is None:\n",
    "        return 1\n",
    "    if root.left is None:\n",
    "        return 1 + min_level(root.right)\n",
    "    if root.right is None:\n",
    "        return 1 + min_level(root.left)\n",
    "    return 1 + min(min_level(root.left), min_level(root.right))"
   ]
  },
  {
   "cell_type": "markdown",
   "metadata": {},
   "source": [
    "<hr>\n",
    "<h4>Follow up:</h4>\n",
    "<p>Solve it both recursively and iteratively.</p>\n",
    "\n",
    "<h4>Code</h4>"
   ]
  },
  {
   "cell_type": "code",
   "execution_count": null,
   "metadata": {},
   "outputs": [],
   "source": [
    "\"\"\"Note: the intuition of finding a childless node and using log(index) does not work here\n",
    "\n",
    "Example: \n",
    "         2\n",
    "        / \\\n",
    "     null  3         corresponds to [2,null,3,null,4] \n",
    "          / \\\n",
    "        null  4\n",
    "\n",
    "is different from: \n",
    "           2\n",
    "         /   \\\n",
    "        /     \\\n",
    "     null      3     which corresponds to [2,null,3,null,null,null,4]\n",
    "     / \\      / \\\n",
    "  null null null 4\n",
    "\n",
    "And only the latest would be appropriate for using log(index)\"\"\""
   ]
  },
  {
   "cell_type": "code",
   "execution_count": 4,
   "metadata": {},
   "outputs": [],
   "source": [
    "def min_level(root):\n",
    "    \"\"\"Iterative approach using BFS traversal with a stack.\"\"\"\n",
    "    if not root:\n",
    "        return 0\n",
    "    stack = [(root, 0)]\n",
    "    for (node, depth) in stack:\n",
    "        if not node:\n",
    "            continue\n",
    "        depth += 1\n",
    "        if not node.left and not node.right:\n",
    "            return depth  # exit at the earliest level where a childless node is found\n",
    "        stack += (node.left, depth), (node.right, depth),"
   ]
  },
  {
   "cell_type": "code",
   "execution_count": 5,
   "metadata": {},
   "outputs": [],
   "source": [
    "from collections import deque\n",
    "\n",
    "def min_depth(root):\n",
    "    \"\"\"Iterative approach using BFS traversal with  a queue.\"\"\"\n",
    "    if not root:\n",
    "        return 0\n",
    "    queue = deque()\n",
    "    queue.append((root, 0))\n",
    "    while queue:\n",
    "        node, depth = queue.popleft()\n",
    "        if not node:\n",
    "            continue\n",
    "        depth += 1\n",
    "        if not node.left and not node.right:\n",
    "            return depth  # exit at the earliest level where a childless node is found\n",
    "        queue += (node.left, depth), (node.right, depth),"
   ]
  }
 ],
 "metadata": {
  "kernelspec": {
   "display_name": "Python 3",
   "language": "python",
   "name": "python3"
  },
  "language_info": {
   "codemirror_mode": {
    "name": "ipython",
    "version": 3
   },
   "file_extension": ".py",
   "mimetype": "text/x-python",
   "name": "python",
   "nbconvert_exporter": "python",
   "pygments_lexer": "ipython3",
   "version": "3.8.2"
  }
 },
 "nbformat": 4,
 "nbformat_minor": 1
}
