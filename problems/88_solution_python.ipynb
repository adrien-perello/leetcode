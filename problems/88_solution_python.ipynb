{
 "cells": [
  {
   "cell_type": "markdown",
   "metadata": {},
   "source": [
    "<h1>88. Merge Sorted Array</h1>\n",
    "<hr>\n",
    "\n",
    "<!--Copy Paste Leetcode statement between-->\n",
    "<p>Given two sorted integer arrays <code>nums1</code> and <code>nums2</code>, merge <code>nums2</code> into <code>nums1</code> as one sorted array.</p>\n",
    "\n",
    "<p>The number of elements initialized in <code>nums1</code> and <code>nums2</code> are <code>m</code> and <code>n</code> respectively. You may assume that <code>nums1</code> has enough space (size that is&nbsp;equal to <code>m + n</code>) to hold additional elements from <code>nums2</code>.</p>\n",
    "\n",
    "<p>&nbsp;</p>\n",
    "<p><strong>Example 1:</strong></p>\n",
    "<code><strong>Input:</strong> nums1 = [1,2,3,0,0,0], m = 3, nums2 = [2,5,6], n = 3\n",
    "<strong>Output:</strong> [1,2,2,3,5,6]</code>\n",
    "<p><strong>Example 2:</strong></p>\n",
    "<code><strong>Input:</strong> nums1 = [1], m = 1, nums2 = [], n = 0\n",
    "<strong>Output:</strong> [1]</code>\n",
    "</code>\n",
    "\n",
    "<p>&nbsp;</p>\n",
    "<p><strong>Constraints:</strong></p>\n",
    "\n",
    "<ul>\n",
    "\t<li><code>0 &lt;= n, m &lt;= 200</code></li>\n",
    "\t<li><code>1 &lt;= n + m &lt;= 200</code></li>\n",
    "\t<li><code>nums1.length == m + n</code></li>\n",
    "\t<li><code>nums2.length == n</code></li>\n",
    "\t<li><code>-10<sup>9</sup> &lt;= nums1[i], nums2[i] &lt;= 10<sup>9</sup></code></li>\n",
    "</ul>\n",
    "<!--Copy Paste Leetcode statement between-->\n",
    "\n",
    "<p>&nbsp;</p>\n",
    "<a href=\"https://leetcode.com/problems/merge-sorted-array/\">Source</a> \n",
    "<hr>\n",
    "\n",
    "<h4>Code</h4>"
   ]
  },
  {
   "cell_type": "code",
   "execution_count": 1,
   "metadata": {},
   "outputs": [],
   "source": [
    "def merge(nums1, m, nums2, n):\n",
    "    \"\"\"Do not return anything, modify nums1 in-place instead.\"\"\"\n",
    "    while m > 0 and n > 0:\n",
    "        if nums1[m-1] >= nums2[n-1]:\n",
    "            nums1[m+n-1] = nums1[m-1]\n",
    "            m -= 1\n",
    "        else:\n",
    "            nums1[m+n-1] = nums2[n-1]\n",
    "            n -= 1\n",
    "    if n > 0:\n",
    "        nums1[:n] = nums2[:n]"
   ]
  },
  {
   "cell_type": "code",
   "execution_count": null,
   "metadata": {},
   "outputs": [],
   "source": [
    "def merge(nums1, m, nums2, n):\n",
    "    \"\"\"Do not return anything, modify nums1 in-place instead.\"\"\"\n",
    "    while n > 0:\n",
    "        if m <= 0 or nums1[m-1] <= nums2[n-1]:\n",
    "            nums1[m+n-1] = nums2[n-1]\n",
    "            n -= 1\n",
    "        else:\n",
    "            nums1[m+n-1] = nums1[m-1]\n",
    "            m -= 1"
   ]
  },
  {
   "cell_type": "markdown",
   "metadata": {},
   "source": [
    "<h4>Check</h4>"
   ]
  },
  {
   "cell_type": "code",
   "execution_count": 2,
   "metadata": {},
   "outputs": [
    {
     "data": {
      "text/plain": [
       "[1, 2, 2, 3, 5, 6]"
      ]
     },
     "execution_count": 2,
     "metadata": {},
     "output_type": "execute_result"
    }
   ],
   "source": [
    "nums1, m, nums2, n = [1,2,3,0,0,0], 3, [2,5,6], 3\n",
    "\n",
    "merge(nums1, m, nums2, n)\n",
    "nums1"
   ]
  },
  {
   "cell_type": "code",
   "execution_count": 3,
   "metadata": {},
   "outputs": [
    {
     "data": {
      "text/plain": [
       "[1]"
      ]
     },
     "execution_count": 3,
     "metadata": {},
     "output_type": "execute_result"
    }
   ],
   "source": [
    "nums1, m, nums2, n = [1], 1, [], 0\n",
    "\n",
    "merge(nums1, m, nums2, n)\n",
    "nums1"
   ]
  },
  {
   "cell_type": "markdown",
   "metadata": {},
   "source": [
    "<hr>\n",
    "<h4>Follow up</h4>\n",
    "<p>Given <code>*args</code> sorted arrays of integers, merge them together in sorted way and include duplicates</p>\n",
    "\n",
    "<h4>Code</h4>"
   ]
  },
  {
   "cell_type": "code",
   "execution_count": 8,
   "metadata": {},
   "outputs": [],
   "source": [
    "from functools import reduce\n",
    "\n",
    "\n",
    "def merge_2_arrays(arr1, arr2):\n",
    "    final_arr = []\n",
    "    i = 0\n",
    "    j = 0\n",
    "    while i <= len(arr1)-1 and j <= len(arr2)-1:\n",
    "        if arr1[i] <= arr2[j]:\n",
    "            final_arr.append(arr1[i])\n",
    "            i += 1\n",
    "        else:\n",
    "            final_arr.append(arr2[j])\n",
    "            j += 1\n",
    "    if i == len(arr1):\n",
    "        final_arr.extend(arr2[j::])\n",
    "    elif j == len(arr2):\n",
    "        final_arr.extend(arr1[i::])\n",
    "    return final_arr\n",
    "\n",
    "\n",
    "def merge_sorted_n_arrays(*args):\n",
    "    if len(args) >= 2:\n",
    "        arr_matrix = list(args)\n",
    "        return reduce(merge_2_arrays, arr_matrix)\n",
    "    elif len(args) == 1:\n",
    "        return args\n",
    "    else:\n",
    "        return []"
   ]
  },
  {
   "cell_type": "markdown",
   "metadata": {},
   "source": [
    "<h4>Check</h4>"
   ]
  },
  {
   "cell_type": "code",
   "execution_count": 10,
   "metadata": {},
   "outputs": [
    {
     "data": {
      "text/plain": [
       "[1, 1, 2, 3, 4, 5, 5, 6, 7, 8, 8, 9, 9, 9, 10, 10, 11, 12]"
      ]
     },
     "execution_count": 10,
     "metadata": {},
     "output_type": "execute_result"
    }
   ],
   "source": [
    "a = [1, 3, 5, 7, 10]\n",
    "b = [2, 4, 5, 6, 8, 9]\n",
    "c = [1]\n",
    "d = [8, 9, 9, 10, 11, 12]\n",
    "\n",
    "merge_sorted_n_arrays(a, b, c, d)"
   ]
  },
  {
   "cell_type": "code",
   "execution_count": null,
   "metadata": {},
   "outputs": [],
   "source": []
  }
 ],
 "metadata": {
  "kernelspec": {
   "display_name": "Python 3",
   "language": "python",
   "name": "python3"
  },
  "language_info": {
   "codemirror_mode": {
    "name": "ipython",
    "version": 3
   },
   "file_extension": ".py",
   "mimetype": "text/x-python",
   "name": "python",
   "nbconvert_exporter": "python",
   "pygments_lexer": "ipython3",
   "version": "3.8.2"
  }
 },
 "nbformat": 4,
 "nbformat_minor": 1
}
