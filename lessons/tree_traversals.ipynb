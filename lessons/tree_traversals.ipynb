{
 "cells": [
  {
   "cell_type": "markdown",
   "metadata": {},
   "source": [
    "<h1>Reminder on depth, height and level</h1>\n",
    "<hr>\n",
    "\n",
    "<p>Depth, height and level of a <b>node</b>:</p>\n",
    "\n",
    "<ul>\n",
    "<li><p>The <strong>depth</strong> of a node is the number of edges from the root to the node.</p>\n",
    "    <ul><li><p>depth(root) = 0</p></li></ul>\n",
    "    <ul><li><p>requires a top-down approach</p></li></ul>\n",
    "</li>\n",
    "</ul>\n",
    "<ul>\n",
    "<li>The <strong>level</strong> of a node is the number of nodes from the root to the node.</li>\n",
    "    <ul><li><p>level(root) = 1</p></li></ul>\n",
    "    <ul><li><p>level(node) = depth(node) + 1</p></li></ul>\n",
    "    <ul><li><p>requires a top-down approach</p></li></ul>\n",
    "</ul>\n",
    "<ul>\n",
    "<li><p>The <strong>height</strong> of a node is defined by the number of edges on the <em>longest path</em> from the node to a leaf</p></li>\n",
    "    <ul><li><p>height(leaf) = 0</p></li></ul>\n",
    "    <ul><li><p>height(node) = max(depth(node))</p></li></ul>\n",
    "    <ul><li><p>requires a bottom-up approach</p></li></ul>\n",
    "</ul>\n",
    "\n",
    "<p>Depth and height of a <b>tree</b>:</p>\n",
    "\n",
    "<ul>\n",
    "<li><p>The <strong>height</strong> of a tree is the height of its root node, i.e. the depth of its <em>deepest node</em>.</p></li>\n",
    "<li><p>The <strong>diameter</strong> (or <strong>width</strong>) of a tree is the number of <em>nodes</em> on the longest path between any two leaf nodes.</p></li>\n",
    "</ul>\n",
    "\n",
    "<p><img src=\"tree_img2.png\" alt=\"A tree, with height and depth of each node\"></p>\n",
    "<p>This tree has a diameter of 6 nodes.</p>\n",
    "<p>&nbsp;</p>\n",
    "<p>&nbsp;</p>\n",
    "<h1>Tree Traversals</h1>\n",
    "<hr>\n",
    "<!--Copy Paste Leetcode statement between-->\n",
    "<img alt=\"\" src=\"./tree_img1.png\" style=\"width: 320px; height: 273px;\">\n",
    "<p>&nbsp;</p>\n",
    "<p><b>pre-order:</b>\n",
    "    <ul><li>F, B, A, D, C, E, G, I, H</li></ul></p>\n",
    "<p><b>in-order:</b>\n",
    "    <ul><li>A, B, C, D, E, F, G, H, I</li></ul></p>\n",
    "<p><b>post-order:</b>\n",
    "    <ul><li>A, C, E, D, B, H, I, G, F</li></ul></p>\n",
    "<!--Copy Paste Leetcode statement between-->\n",
    "\n",
    "<p>&nbsp;</p>\n",
    "<a href=\"https://www.wikiwand.com/en/Tree_traversal\">Source</a> \n",
    "<hr>"
   ]
  },
  {
   "cell_type": "code",
   "execution_count": 1,
   "metadata": {},
   "outputs": [],
   "source": [
    "# Definition for a binary tree node.\n",
    "class TreeNode:\n",
    "    def __init__(self, val=0, left=None, right=None):\n",
    "        self.val = val\n",
    "        self.left = left\n",
    "        self.right = right"
   ]
  },
  {
   "cell_type": "markdown",
   "metadata": {},
   "source": [
    "<hr>\n",
    "<h4>Preorder Traversal - Recursive</h4>\n",
    "<p>&nbsp;</p>\n",
    "<h4>Code</h4>"
   ]
  },
  {
   "cell_type": "code",
   "execution_count": 2,
   "metadata": {},
   "outputs": [],
   "source": [
    "def preorder_recur(root):\n",
    "    \"\"\"Preorder recursive.\"\"\"\n",
    "    if not root:\n",
    "        return None\n",
    "\n",
    "    def helper(node):\n",
    "        if not node:\n",
    "            return\n",
    "        nonlocal traversal\n",
    "        traversal.append(node.val)  # print\n",
    "        helper(node.left)\n",
    "        helper(node.right)\n",
    "\n",
    "    traversal = []\n",
    "    helper(root)\n",
    "    return traversal"
   ]
  },
  {
   "cell_type": "code",
   "execution_count": 3,
   "metadata": {},
   "outputs": [],
   "source": [
    "def preorder_recur(root):\n",
    "    \"\"\"One line alternative.\"\"\"\n",
    "    return [root.val] + preorder_recur(root.left) + preorder_recur(root.right) if root else []"
   ]
  },
  {
   "cell_type": "markdown",
   "metadata": {},
   "source": [
    "<hr>\n",
    "<h4>Postorder Traversal - Recursive</h4>\n",
    "<p>&nbsp;</p>\n",
    "<h4>Code</h4>"
   ]
  },
  {
   "cell_type": "code",
   "execution_count": 4,
   "metadata": {},
   "outputs": [],
   "source": [
    "def postorder_recur(root):\n",
    "    \"\"\"Postorder recursive.\"\"\"\n",
    "    if not root:\n",
    "        return None\n",
    "\n",
    "    def helper(node):\n",
    "        if not node:\n",
    "            return\n",
    "        nonlocal traversal\n",
    "        helper(node.left)\n",
    "        helper(node.right)\n",
    "        traversal.append(node.val)  # print\n",
    "\n",
    "    traversal = []\n",
    "    helper(root)\n",
    "    return traversal"
   ]
  },
  {
   "cell_type": "code",
   "execution_count": 5,
   "metadata": {},
   "outputs": [],
   "source": [
    "def postorder_recur(root):\n",
    "    \"\"\"One line alternative.\"\"\"\n",
    "    return postorder_recur(root.left) + postorder_recur(root.right) + [root.val] if root else []"
   ]
  },
  {
   "cell_type": "markdown",
   "metadata": {},
   "source": [
    "<hr>\n",
    "<h4>Inorder Traversal - Recursive</h4>\n",
    "<p>&nbsp;</p>\n",
    "<h4>Code</h4>"
   ]
  },
  {
   "cell_type": "code",
   "execution_count": 6,
   "metadata": {},
   "outputs": [],
   "source": [
    "def inorder_recur(root):\n",
    "    \"\"\"Inorder recursive.\n",
    "    Note: reverse the 2 (*) lines for decreasing order traversal\"\"\"\n",
    "    if not root:\n",
    "        return None\n",
    "\n",
    "    def helper(node):\n",
    "        if not node:\n",
    "            return\n",
    "        nonlocal traversal\n",
    "        helper(node.left)           # (*)\n",
    "        traversal.append(node.val)  # print\n",
    "        helper(node.right)          # (*)\n",
    "\n",
    "    traversal = []\n",
    "    helper(root)\n",
    "    return traversal"
   ]
  },
  {
   "cell_type": "code",
   "execution_count": 7,
   "metadata": {},
   "outputs": [],
   "source": [
    "def inorder_recur(root):\n",
    "    \"\"\"Inorder recursive.\"\"\"\n",
    "    return inorder_recur(root.left) + [root.val] + inorder_recur(root.right) if root else []"
   ]
  },
  {
   "cell_type": "markdown",
   "metadata": {},
   "source": [
    "<hr>\n",
    "<h4>Preorder Traversal - Iterative</h4>\n",
    "<p>&nbsp;</p>\n",
    "<h4>Code</h4>"
   ]
  },
  {
   "cell_type": "code",
   "execution_count": 8,
   "metadata": {},
   "outputs": [],
   "source": [
    "from collections import deque\n",
    "\n",
    "def preorder_iter(root):\n",
    "    \"\"\"Preorder iterative. requires 1 stack + 1 queue (for appendleft)\"\"\"\n",
    "    if not root:\n",
    "        return []\n",
    "    stack = [root]\n",
    "    traversal = deque()\n",
    "    while stack:\n",
    "        node = stack.pop()\n",
    "        if not node:\n",
    "            continue\n",
    "        traversal.appendleft(node.val)  # print (left)\n",
    "        stack += node.right, node.left  # pust Right child first to make sure\n",
    "        #                               # that left subtree is processed 1st\n",
    "\n",
    "    return traversal  # pop for normal order // popleft for reversed order"
   ]
  },
  {
   "cell_type": "markdown",
   "metadata": {},
   "source": [
    "<hr>\n",
    "<h4>Postorder Traversal - Iterative</h4>\n",
    "<p>&nbsp;</p>\n",
    "<h4>Code</h4>"
   ]
  },
  {
   "cell_type": "code",
   "execution_count": 9,
   "metadata": {},
   "outputs": [],
   "source": [
    "from collections import deque\n",
    "\n",
    "def postorder_iter(root):\n",
    "    \"\"\"Postorder iterative. using 1 stack + 1 queue (but could use 2 stacks)\"\"\"\n",
    "    if not root:\n",
    "        return []\n",
    "    stack = [root]\n",
    "    traversal = deque()  # could use 2nd stack instead of queue: traversal = []\n",
    "    while stack:\n",
    "        node = stack.pop()\n",
    "        if not node:\n",
    "            continue\n",
    "        traversal.append(node.val)  # print (right)\n",
    "        stack += node.left, node.right\n",
    "\n",
    "    return traversal  # pop for normal order // popleft for reversed order"
   ]
  },
  {
   "cell_type": "markdown",
   "metadata": {},
   "source": [
    "<hr>\n",
    "<h4>Inorder Traversal - Iterative</h4>\n",
    "<p>&nbsp;</p>\n",
    "<h4>Code</h4>"
   ]
  },
  {
   "cell_type": "code",
   "execution_count": 10,
   "metadata": {},
   "outputs": [],
   "source": [
    "def inorder_iter(root):\n",
    "    \"\"\"Inorder iterative. using 2 stacks\"\"\"\n",
    "    stack = []\n",
    "    traversal = []\n",
    "    node = root\n",
    "    while node or stack:\n",
    "        while node:  # go to the leftmost child\n",
    "            stack.append(node)\n",
    "            node = node.left\n",
    "        # if no more left child, get the 1st right node and check for leftmost child again\n",
    "        node = stack.pop()\n",
    "        traversal.append(node.val)  # print\n",
    "        node = node.right\n",
    "\n",
    "    return traversal"
   ]
  },
  {
   "cell_type": "code",
   "execution_count": 11,
   "metadata": {},
   "outputs": [],
   "source": [
    "def inorder_iter(root):\n",
    "    \"\"\"Single loop alternative using 2 stacks\"\"\"\n",
    "    stack = []\n",
    "    traversal = []\n",
    "    node = root\n",
    "    while stack or node:\n",
    "        if node:\n",
    "            stack.append(node)\n",
    "            node = node.left\n",
    "        else:\n",
    "            tmp_node = stack.pop()\n",
    "            traversal.append(tmp_node.val)  # print\n",
    "            node = tmp_node.right\n",
    "\n",
    "    return traversal"
   ]
  },
  {
   "cell_type": "code",
   "execution_count": 12,
   "metadata": {},
   "outputs": [],
   "source": [
    "from collections import deque\n",
    "\n",
    "def inorder_iter(root):\n",
    "    \"\"\"Inorder iterative. using 1 stack + 1 queue\"\"\"\n",
    "    stack = []\n",
    "    traversal = deque()\n",
    "    node = root\n",
    "    while node or stack:\n",
    "        # travel to each node's left child until leaf\n",
    "        while node:\n",
    "            stack.append(node)\n",
    "            node = node.left\n",
    "        node = stack.pop()\n",
    "        traversal.appendleft(node.val)  # print\n",
    "        node = node.right\n",
    "\n",
    "    return reversed(traversal)"
   ]
  },
  {
   "cell_type": "code",
   "execution_count": 13,
   "metadata": {},
   "outputs": [],
   "source": [
    "from collections import deque\n",
    "\n",
    "def inorder_iter(root):\n",
    "    \"\"\"Single loop alternative 1 stack + 1 queue\"\"\"\n",
    "    stack = []\n",
    "    traversal = deque()\n",
    "    node = root\n",
    "    while stack or node:\n",
    "        if node:\n",
    "            stack.append(node)\n",
    "            node = node.left\n",
    "        else:\n",
    "            tmp_node = stack.pop()\n",
    "            traversal.appendleft(tmp_node.val)  # print\n",
    "            node = tmp_node.right\n",
    "\n",
    "    return reversed(traversal)"
   ]
  },
  {
   "cell_type": "markdown",
   "metadata": {},
   "source": [
    "<hr>\n",
    "<h4>Level Traversal (BFS) - Iterative</h4>\n",
    "<p>&nbsp;</p>\n",
    "<h4>Code</h4>"
   ]
  },
  {
   "cell_type": "code",
   "execution_count": 14,
   "metadata": {},
   "outputs": [],
   "source": [
    "def BFS_iter(root):\n",
    "    \"\"\"Level traversal (BFS) using list\"\"\"\n",
    "    queue = [root]\n",
    "    traversal = []\n",
    "    for node in queue:\n",
    "        if not node:\n",
    "            continue\n",
    "        traversal.append(node.val)  # print\n",
    "        queue += node.left, node.right\n",
    "    return(traversal)"
   ]
  },
  {
   "cell_type": "code",
   "execution_count": 15,
   "metadata": {},
   "outputs": [],
   "source": [
    "from collections import deque\n",
    "\n",
    "def BFS_iter(root):\n",
    "    \"\"\"Level traversal (BFS) using deque.\"\"\"\n",
    "    queue = deque()\n",
    "    queue.append(root)\n",
    "    traversal = []\n",
    "    while queue:\n",
    "        node = queue.popleft()\n",
    "        if not node:\n",
    "            continue\n",
    "        traversal.append(node.val)  # print\n",
    "        queue += node.left, node.right\n",
    "    return(traversal)"
   ]
  },
  {
   "cell_type": "markdown",
   "metadata": {},
   "source": [
    "<hr>\n",
    "<h4>Going further: Morris Traversal</h4>\n",
    "<p>&nbsp;</p>\n",
    "<h4>Code</h4>"
   ]
  },
  {
   "cell_type": "code",
   "execution_count": 2,
   "metadata": {},
   "outputs": [],
   "source": [
    "# https://www.geeksforgeeks.org/morris-traversal-for-preorder/\n",
    "\n",
    "# https://www.geeksforgeeks.org/inorder-tree-traversal-without-recursion-and-without-stack/"
   ]
  },
  {
   "cell_type": "markdown",
   "metadata": {},
   "source": [
    "<p>&nbsp;</p>\n",
    "<p>&nbsp;</p>\n",
    "<h1>Finding path to a target</h1>\n",
    "<hr>\n",
    "<h4>Recursive approach</h4>\n",
    "<p>&nbsp;</p>\n",
    "<h4>Code</h4>"
   ]
  },
  {
   "cell_type": "code",
   "execution_count": null,
   "metadata": {},
   "outputs": [],
   "source": [
    "def path_to_target(root, target):\n",
    "    \"\"\"recursive top-down solution using DFS (preorder traversal)\"\"\"\n",
    "    def dfs(node, target, path):\n",
    "        nonlocal result\n",
    "        if not node:\n",
    "            return\n",
    "\n",
    "        tmp_path = path + [node.val]\n",
    "        if node.val == target:\n",
    "            result = tmp_path\n",
    "        dfs(node.left, target, tmp_path)\n",
    "        dfs(node.right, target, tmp_path)\n",
    "\n",
    "    result = []\n",
    "    dfs(root, target, [])\n",
    "    return result if result else -1"
   ]
  },
  {
   "cell_type": "code",
   "execution_count": null,
   "metadata": {},
   "outputs": [],
   "source": [
    "def path_to_target(root, target):\n",
    "    \"\"\"alternative version of top-down recursive solution\"\"\"\n",
    "    def dfs(node, target):\n",
    "        if not node:\n",
    "            return []\n",
    "\n",
    "        if node.val == target:\n",
    "            return [node.val]\n",
    "\n",
    "        path = dfs(node.left, target)\n",
    "        if path:\n",
    "            return [node.val] + path\n",
    "\n",
    "        path = dfs(node.right, target)\n",
    "        if path:\n",
    "            return [node.val] + path\n",
    "\n",
    "        return []\n",
    "\n",
    "    result = dfs(root, target)\n",
    "    return result if result else -1"
   ]
  },
  {
   "cell_type": "code",
   "execution_count": null,
   "metadata": {},
   "outputs": [],
   "source": [
    "def path_to_target(root, target):\n",
    "    \"\"\"Yet another alternative version of top-down recursive solution\"\"\"\n",
    "    def dfs(node, target, path):\n",
    "        if not node:\n",
    "            return False\n",
    "\n",
    "        path.append(node.val)\n",
    "        if node.val == target:\n",
    "            return True\n",
    "\n",
    "        target_found = dfs(node.left, target, path)\n",
    "        if target_found:\n",
    "            return True\n",
    "\n",
    "        target_found = dfs(node.right, target, path)\n",
    "        if target_found:\n",
    "            return True\n",
    "\n",
    "        path.pop()\n",
    "\n",
    "\n",
    "    result = []\n",
    "    target_found = dfs(root, target, result)\n",
    "    return result if target_found else -1"
   ]
  },
  {
   "cell_type": "code",
   "execution_count": null,
   "metadata": {},
   "outputs": [],
   "source": [
    "def path_to_target(root, target):\n",
    "    \"\"\"recursive bottom-up solution using DFS (preorder traversal)\"\"\"\n",
    "    def dfs(node, target, path):\n",
    "        if not node:\n",
    "            return False\n",
    "\n",
    "        left = dfs(node.left, target, path)\n",
    "        right =  dfs(node.right, target, path)\n",
    "        if node.val == target or left or right:\n",
    "            path.append(node.val)                 # only happened once we found target\n",
    "            return True\n",
    "\n",
    "        return False\n",
    "\n",
    "\n",
    "    result = []\n",
    "    target_found = dfs(root, target, result)\n",
    "    result.reverse()                            # this way of doing requires reversing path\n",
    "    return result if target_found else -1"
   ]
  },
  {
   "cell_type": "code",
   "execution_count": null,
   "metadata": {},
   "outputs": [],
   "source": [
    "from collections import deque\n",
    "\n",
    "def path_to_target(root, target):\n",
    "    \"\"\"alternative version of recursive bottom-up solution using a hashmap of parents\"\"\"\n",
    "    def dfs(node, target, parent):\n",
    "        if not node:\n",
    "            return\n",
    "        if target in parent:\n",
    "            return\n",
    "        if node.left:\n",
    "            parent[node.left] = node\n",
    "            dfs(node.left, target, parent)\n",
    "        if node.right:\n",
    "            parent[node.right] = node\n",
    "            dfs(node.right, target, parent)\n",
    "\n",
    "    parent = {root:None}\n",
    "    dfs(root, target, parent)\n",
    "    result = deque()\n",
    "    while target in parent:  # find all ancestors of target\n",
    "        result.appendleft(target)\n",
    "        target = parent[target]\n",
    "    return list(result) if result else -1"
   ]
  },
  {
   "cell_type": "markdown",
   "metadata": {},
   "source": [
    "<hr>\n",
    "<h4>Iterative approach</h4>\n",
    "<p>&nbsp;</p>\n",
    "<h4>Code</h4>"
   ]
  },
  {
   "cell_type": "code",
   "execution_count": null,
   "metadata": {},
   "outputs": [],
   "source": [
    "def path_to_target(root, target):\n",
    "    \"\"\"iterative top-down solution using DFS (preorder traversal)\"\"\"\n",
    "    if not root:\n",
    "        return -1\n",
    "\n",
    "    stack = [(root, [])]\n",
    "    result = []\n",
    "\n",
    "    while stack:\n",
    "        node, path = stack.pop()\n",
    "        if not node:\n",
    "            continue\n",
    "\n",
    "        tmp_path = path + [node.val]\n",
    "        if node.val == target:\n",
    "            result = tmp_path\n",
    "            break\n",
    "        stack += (node.right, tmp_path), (node.left, tmp_path),\n",
    "\n",
    "    return result if result else -1"
   ]
  },
  {
   "cell_type": "code",
   "execution_count": null,
   "metadata": {},
   "outputs": [],
   "source": [
    "from collection import deque\n",
    "\n",
    "def path_to_target(root, target):\n",
    "    \"\"\"iterative bottom-up solution using DFS (preorder traversal)\"\"\"\n",
    "        \n",
    "    if not root:\n",
    "        return -1\n",
    "\n",
    "    stack = [root]\n",
    "    prev = None\n",
    "    parent = {root: None}\n",
    "    result = deque()\n",
    "\n",
    "    while stack:\n",
    "        node = stack.pop()\n",
    "        if node.val == target:\n",
    "            prev = node\n",
    "            break\n",
    "        if node.left:\n",
    "            parent[node.left] = node\n",
    "            stack += node.left,\n",
    "        if node.right:\n",
    "            parent[node.right] = node\n",
    "            stack += node.right,\n",
    "\n",
    "    while prev:\n",
    "        result.appendleft(prev.val)\n",
    "        prev = parent[prev]\n",
    "\n",
    "    return list(result) if result else -1"
   ]
  },
  {
   "cell_type": "code",
   "execution_count": null,
   "metadata": {},
   "outputs": [],
   "source": [
    "def path_to_target(root, target):\n",
    "    \"\"\"iterative solution using BFS (level traversal)\"\"\"\n",
    "    if not root:\n",
    "        return -1\n",
    "\n",
    "    queue = [(root, [])]\n",
    "    result = []\n",
    "    \n",
    "    for node, path in queue:\n",
    "        if not node:\n",
    "            continue\n",
    "\n",
    "        tmp_path = path + [node.val]\n",
    "        if node.val == target:\n",
    "            result = tmp_path\n",
    "            break\n",
    "        queue += (node.right, tmp_path), (node.left, tmp_path),\n",
    "\n",
    "    return result if result else -1"
   ]
  },
  {
   "cell_type": "code",
   "execution_count": null,
   "metadata": {},
   "outputs": [],
   "source": [
    "from collection import deque\n",
    "\n",
    "def path_to_target(root, target):\n",
    "    \"\"\"iterative bottom-up solution using BFS (level traversal)\"\"\"\n",
    "        \n",
    "    if not root:\n",
    "        return -1\n",
    "\n",
    "    queue = [root]\n",
    "    prev = None\n",
    "    parent = {root: None}\n",
    "    result = deque()\n",
    "\n",
    "    for node in queue:\n",
    "\n",
    "        # Option 1\n",
    "        if node.val == target:               #\n",
    "            prev = node\n",
    "            break\n",
    "        if node.left:\n",
    "            parent[node.left] = node\n",
    "            queue += node.left,\n",
    "        if node.right:\n",
    "            parent[node.right] = node\n",
    "            queue += node.right,\n",
    "\n",
    "#         # Option 2\n",
    "#         if not node:\n",
    "#             continue\n",
    "#         if node.val == target:\n",
    "#             prev = node\n",
    "#             break\n",
    "#         parent[node.left] = node\n",
    "#         parent[node.right] = node\n",
    "#         queue += node.right, node.left,       \n",
    "#\n",
    "#     parent[None] = None     \n",
    "\n",
    "    while prev:\n",
    "        result.appendleft(prev.val)\n",
    "        prev = parent[prev]\n",
    "\n",
    "    return list(result) if result else -1"
   ]
  }
 ],
 "metadata": {
  "kernelspec": {
   "display_name": "Python 3",
   "language": "python",
   "name": "python3"
  },
  "language_info": {
   "codemirror_mode": {
    "name": "ipython",
    "version": 3
   },
   "file_extension": ".py",
   "mimetype": "text/x-python",
   "name": "python",
   "nbconvert_exporter": "python",
   "pygments_lexer": "ipython3",
   "version": "3.8.2"
  }
 },
 "nbformat": 4,
 "nbformat_minor": 1
}
