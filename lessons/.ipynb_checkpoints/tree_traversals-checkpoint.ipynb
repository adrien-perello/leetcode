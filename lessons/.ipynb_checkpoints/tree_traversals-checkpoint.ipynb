{
 "cells": [
  {
   "cell_type": "markdown",
   "metadata": {},
   "source": [
    "<h1>Tree Traversals</h1>\n",
    "<hr>\n",
    "\n",
    "<!--Copy Paste Leetcode statement between-->\n",
    "<img alt=\"\" src=\"./img1.png\" style=\"width: 320px; height: 273px;\">\n",
    "<p>&nbsp;</p>\n",
    "<p><b>pre-order:</b>\n",
    "    <ul><li>F, B, A, D, C, E, G, I, H</li></ul></p>\n",
    "<p><b>in-order:</b>\n",
    "    <ul><li>A, B, C, D, E, F, G, H, I</li></ul></p>\n",
    "<p><b>post-order:</b>\n",
    "    <ul><li>A, C, E, D, B, H, I, G, F</li></ul></p>\n",
    "<!--Copy Paste Leetcode statement between-->\n",
    "\n",
    "<p>&nbsp;</p>\n",
    "<a href=\"https://www.wikiwand.com/en/Tree_traversal\">Source</a> \n",
    "<hr>"
   ]
  },
  {
   "cell_type": "code",
   "execution_count": 1,
   "metadata": {},
   "outputs": [],
   "source": [
    "# Definition for a binary tree node.\n",
    "class TreeNode:\n",
    "    def __init__(self, val=0, left=None, right=None):\n",
    "        self.val = val\n",
    "        self.left = left\n",
    "        self.right = right"
   ]
  },
  {
   "cell_type": "markdown",
   "metadata": {},
   "source": [
    "<hr>\n",
    "<h4>Preorder Traversal - Recursive</h4>\n",
    "<p>&nbsp;</p>\n",
    "<h4>Code</h4>"
   ]
  },
  {
   "cell_type": "code",
   "execution_count": 2,
   "metadata": {},
   "outputs": [],
   "source": [
    "def preorder_recur(root):\n",
    "    \"\"\"Preorder recursive.\"\"\"\n",
    "    if not root:\n",
    "        return None\n",
    "\n",
    "    def helper(node):\n",
    "        if node is None:\n",
    "            return\n",
    "        nonlocal traversal\n",
    "        traversal.append(node.val)  # print\n",
    "        helper(node.left)\n",
    "        helper(node.right)\n",
    "\n",
    "    traversal = []\n",
    "    helper(root)\n",
    "    return traversal"
   ]
  },
  {
   "cell_type": "code",
   "execution_count": 3,
   "metadata": {},
   "outputs": [],
   "source": [
    "def preorder_recur(root):\n",
    "    \"\"\"One line alternative.\"\"\"\n",
    "    return [root.val] + preorder_recur(root.left) + preorder_recur(root.right) if root else []"
   ]
  },
  {
   "cell_type": "markdown",
   "metadata": {},
   "source": [
    "<hr>\n",
    "<h4>Postorder Traversal - Recursive</h4>\n",
    "<p>&nbsp;</p>\n",
    "<h4>Code</h4>"
   ]
  },
  {
   "cell_type": "code",
   "execution_count": 4,
   "metadata": {},
   "outputs": [],
   "source": [
    "def postorder_recur(root):\n",
    "    \"\"\"Postorder recursive.\"\"\"\n",
    "    if not root:\n",
    "        return None\n",
    "\n",
    "    def helper(node):\n",
    "        if node is None:\n",
    "            return\n",
    "        nonlocal traversal\n",
    "        helper(node.left)\n",
    "        helper(node.right)\n",
    "        traversal.append(node.val)  # print\n",
    "\n",
    "    traversal = []\n",
    "    helper(root)\n",
    "    return traversal"
   ]
  },
  {
   "cell_type": "code",
   "execution_count": 5,
   "metadata": {},
   "outputs": [],
   "source": [
    "def postorder_recur(root):\n",
    "    \"\"\"One line alternative.\"\"\"\n",
    "    return postorder_recur(root.left) + postorder_recur(root.right) + [root.val] if root else []"
   ]
  },
  {
   "cell_type": "markdown",
   "metadata": {},
   "source": [
    "<hr>\n",
    "<h4>Inorder Traversal - Recursive</h4>\n",
    "<p>&nbsp;</p>\n",
    "<h4>Code</h4>"
   ]
  },
  {
   "cell_type": "code",
   "execution_count": 6,
   "metadata": {},
   "outputs": [],
   "source": [
    "def inorder_recur(root):\n",
    "    \"\"\"Inorder recursive.\n",
    "    Note: reverse the 2 (*) lines for decreasing order traversal\"\"\"\n",
    "    if not root:\n",
    "        return None\n",
    "\n",
    "    def helper(node):\n",
    "        if node is None:\n",
    "            return\n",
    "        nonlocal traversal\n",
    "        helper(node.left)           # (*)\n",
    "        traversal.append(node.val)  # print\n",
    "        helper(node.right)          # (*)\n",
    "\n",
    "    traversal = []\n",
    "    helper(root)\n",
    "    return traversal"
   ]
  },
  {
   "cell_type": "code",
   "execution_count": 7,
   "metadata": {},
   "outputs": [],
   "source": [
    "def inorder_recur(root):\n",
    "    \"\"\"Inorder recursive.\"\"\"\n",
    "    return inorder_recur(root.left) + [root.val] + inorder_recur(root.right) if root else []"
   ]
  },
  {
   "cell_type": "markdown",
   "metadata": {},
   "source": [
    "<hr>\n",
    "<h4>Preorder Traversal - Iterative</h4>\n",
    "<p>&nbsp;</p>\n",
    "<h4>Code</h4>"
   ]
  },
  {
   "cell_type": "code",
   "execution_count": 8,
   "metadata": {},
   "outputs": [],
   "source": [
    "from collections import deque\n",
    "\n",
    "def preorder_iter(root):\n",
    "    \"\"\"Preorder iterative. requires 1 stack + 1 queue (for appendleft)\"\"\"\n",
    "    if not root:\n",
    "        return []\n",
    "    stack = [root]\n",
    "    traversal = deque()\n",
    "    while stack:\n",
    "        node = stack.pop()\n",
    "        traversal.appendleft(node.val)  # print\n",
    "        if node.right:                  # pust Right child first to make sure\n",
    "            stack.append(node.right)    # that left subtree is processed 1st\n",
    "        if node.left:\n",
    "            stack.append(node.left)\n",
    "\n",
    "    return traversal  # pop for normal order // popleft for reversed order"
   ]
  },
  {
   "cell_type": "markdown",
   "metadata": {},
   "source": [
    "<hr>\n",
    "<h4>Postorder Traversal - Iterative</h4>\n",
    "<p>&nbsp;</p>\n",
    "<h4>Code</h4>"
   ]
  },
  {
   "cell_type": "code",
   "execution_count": 9,
   "metadata": {},
   "outputs": [],
   "source": [
    "from collections import deque\n",
    "\n",
    "def preorder_iter(root):\n",
    "    \"\"\"Postorder iterative. using 1 stack + 1 queue (but could use 2 stacks)\"\"\"\n",
    "    if not root:\n",
    "        return []\n",
    "    stack = [root]\n",
    "    traversal = deque()  # could use 2nd stack instead of queue: traversal = []\n",
    "    while stack:\n",
    "        node = stack.pop()\n",
    "        traversal.append(node.val)  # print\n",
    "        if node.left:\n",
    "            stack.append(node.left)\n",
    "        if node.right:\n",
    "            stack.append(node.right)\n",
    "\n",
    "    return traversal  # pop for normal order // popleft for reversed order\n"
   ]
  },
  {
   "cell_type": "markdown",
   "metadata": {},
   "source": [
    "<hr>\n",
    "<h4>Inorder Traversal - Iterative</h4>\n",
    "<p>&nbsp;</p>\n",
    "<h4>Code</h4>"
   ]
  },
  {
   "cell_type": "code",
   "execution_count": 10,
   "metadata": {},
   "outputs": [],
   "source": [
    "def inorder_iter(root):\n",
    "    \"\"\"Inorder iterative. using 2 stacks\"\"\"\n",
    "    stack = []\n",
    "    traversal = []\n",
    "    node = root\n",
    "    while node or stack:\n",
    "        while node:\n",
    "            stack.append(node)\n",
    "            node = node.left\n",
    "        node = stack.pop()\n",
    "        traversal.append(node.val)  # print\n",
    "        node = node.right\n",
    "\n",
    "    return traversal"
   ]
  },
  {
   "cell_type": "code",
   "execution_count": 11,
   "metadata": {},
   "outputs": [],
   "source": [
    "def inorder_iter(root):\n",
    "    \"\"\"Single loop alternative using 2 stacks\"\"\"\n",
    "    stack = []\n",
    "    traversal = []\n",
    "    node = root\n",
    "    while stack or node:\n",
    "        if node:\n",
    "            stack.append(node)\n",
    "            node = node.left\n",
    "        else:\n",
    "            tmp_node = stack.pop()\n",
    "            traversal.append(tmp_node.val)  # print\n",
    "            node = tmp_node.right\n",
    "\n",
    "    return traversal"
   ]
  },
  {
   "cell_type": "code",
   "execution_count": 12,
   "metadata": {},
   "outputs": [],
   "source": [
    "from collections import deque\n",
    "\n",
    "def preorder_iter(root):\n",
    "    \"\"\"Inorder iterative. using 1 stack + 1 queue\"\"\"\n",
    "    stack = []\n",
    "    traversal = deque()\n",
    "    node = root\n",
    "    while node or stack:\n",
    "        # travel to each node's left child until leaf\n",
    "        while node:\n",
    "            stack.append(node)\n",
    "            node = node.left\n",
    "        node = stack.pop()\n",
    "        traversal.appendleft(node.val)  # print\n",
    "        node = node.right\n",
    "\n",
    "    return reversed(traversal)"
   ]
  },
  {
   "cell_type": "code",
   "execution_count": 13,
   "metadata": {},
   "outputs": [],
   "source": [
    "from collections import deque\n",
    "\n",
    "def inorder_iter(root):\n",
    "    \"\"\"Single loop alternative 1 stack + 1 queue\"\"\"\n",
    "    stack = []\n",
    "    traversal = deque()\n",
    "    node = root\n",
    "    while stack or node:\n",
    "        if node:\n",
    "            stack.append(node)\n",
    "            node = node.left\n",
    "        else:\n",
    "            tmp_node = stack.pop()\n",
    "            traversal.appendleft(tmp_node.val)  # print\n",
    "            node = tmp_node.right\n",
    "\n",
    "    return reversed(traversal)"
   ]
  },
  {
   "cell_type": "markdown",
   "metadata": {},
   "source": [
    "<hr>\n",
    "<h4>Level Traversal (BFS) - Iterative</h4>\n",
    "<p>&nbsp;</p>\n",
    "<h4>Code</h4>"
   ]
  },
  {
   "cell_type": "code",
   "execution_count": 14,
   "metadata": {},
   "outputs": [],
   "source": [
    "def BFS_iter(root):\n",
    "    \"\"\"Level traversal (BFS) using 2 stacks\"\"\"\n",
    "    stack = [root]\n",
    "    traversal = []\n",
    "    for node in stack:\n",
    "        if node:\n",
    "            traversal.append(node.val)  # print\n",
    "            stack += node.left, node.right\n",
    "    return(traversal)"
   ]
  },
  {
   "cell_type": "code",
   "execution_count": 15,
   "metadata": {},
   "outputs": [],
   "source": [
    "from collections import deque\n",
    "\n",
    "def BFS_iter(root):\n",
    "    \"\"\"Level traversal (BFS) using 1 stack + 1 queue.\"\"\"\n",
    "    queue = deque()\n",
    "    queue.append(root)\n",
    "    traversal = []\n",
    "    while queue:\n",
    "        node = queue.popleft()\n",
    "        if node:\n",
    "            traversal.append(node.val)  # print\n",
    "            queue += node.left, node.right\n",
    "    return(traversal)"
   ]
  }
 ],
 "metadata": {
  "kernelspec": {
   "display_name": "Python 3",
   "language": "python",
   "name": "python3"
  },
  "language_info": {
   "codemirror_mode": {
    "name": "ipython",
    "version": 3
   },
   "file_extension": ".py",
   "mimetype": "text/x-python",
   "name": "python",
   "nbconvert_exporter": "python",
   "pygments_lexer": "ipython3",
   "version": "3.8.2"
  }
 },
 "nbformat": 4,
 "nbformat_minor": 1
}
