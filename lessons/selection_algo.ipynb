{
 "cells": [
  {
   "cell_type": "markdown",
   "metadata": {},
   "source": [
    "<h1>Selection Algorithms</h1>\n",
    "<p>&nbsp;</p>\n",
    "<a href=\"https://www.geeksforgeeks.org/selection-algorithms/\">Source</a> \n",
    "<hr>\n",
    "<h2>Selection by Sorting</h2>\n",
    "<h4>Code</h4>"
   ]
  },
  {
   "cell_type": "code",
   "execution_count": 29,
   "metadata": {},
   "outputs": [],
   "source": [
    "def unordered_partial_sorting(array, start=0, end=None):\n",
    "    pass"
   ]
  },
  {
   "cell_type": "code",
   "execution_count": 30,
   "metadata": {},
   "outputs": [],
   "source": [
    "def partial_selection_sort(array, start=0, end=None):\n",
    "    pass"
   ]
  },
  {
   "cell_type": "markdown",
   "metadata": {},
   "source": [
    "<h4>Check</h4>"
   ]
  },
  {
   "cell_type": "code",
   "execution_count": 31,
   "metadata": {
    "scrolled": true
   },
   "outputs": [
    {
     "name": "stdout",
     "output_type": "stream",
     "text": [
      "[10, 0, 5, 8, 4, 17, 15, 7, 3, 16]\n",
      "[0, 3, 4, 5, 7, 8, 10, 15, 16, 17]\n"
     ]
    }
   ],
   "source": [
    "from random import randint\n",
    "\n",
    "array = [randint(0, 20) for _ in range(10)]\n",
    "k = 1\n",
    "print(array)\n",
    "print(sorted(array))\n",
    "unordered_partial_sorting(array, k)"
   ]
  },
  {
   "cell_type": "code",
   "execution_count": 32,
   "metadata": {},
   "outputs": [
    {
     "name": "stdout",
     "output_type": "stream",
     "text": [
      "[1, 6, 5, 17, 12, 15, 11, 4, 3, 19]\n",
      "[1, 3, 4, 5, 6, 11, 12, 15, 17, 19]\n"
     ]
    }
   ],
   "source": [
    "from random import randint\n",
    "\n",
    "array = [randint(0, 20) for _ in range(10)]\n",
    "k = 1\n",
    "print(array)\n",
    "print(sorted(array))\n",
    "partial_selection_sort(array, k)"
   ]
  },
  {
   "cell_type": "markdown",
   "metadata": {},
   "source": [
    "<hr>\n",
    "<h2>Partition Based Selection (Quick Select)</h2>\n",
    "<h4>Code</h4>"
   ]
  },
  {
   "cell_type": "code",
   "execution_count": 193,
   "metadata": {},
   "outputs": [],
   "source": [
    "from random import randint\n",
    "\n",
    "def partition(array, left, right, pivot_idx): \n",
    "    \"\"\" Hoare partition \n",
    "    elements less than the pivot are pushed to the left of 'pivot_idx';\n",
    "    elements more than the pivot are pushed to the right of 'pivot_idx';\n",
    "    equal elements can go either way\n",
    "    \"\"\"\n",
    "    pivot = array[pivot_idx]\n",
    "    array[right], array[pivot_idx] = pivot, array[right]  # move pivot to the end\n",
    "    pivot_idx = left  # update pivot_idx\n",
    "\n",
    "    for i in range(left, right):\n",
    "        if array[i] < pivot:                                         # move smaller element\n",
    "            array[pivot_idx], array[i] = array[i], array[pivot_idx]  # to the left (of pivot)\n",
    "            pivot_idx += 1                                           # increment pivot_idx\n",
    "    array[pivot_idx], array[right] = array[right], array[pivot_idx]  # move pivot to final place\n",
    "    return pivot_idx\n",
    "\n",
    "    \n",
    "def quick_select(array, k, start=0, end=None):\n",
    "    \"\"\"Based on quick sort, but instead of recursing on both sides\n",
    "    we recurse on one side (the side on which the desired kth element is present)\n",
    "    0 <= k < len(array)\n",
    "    \"\"\"\n",
    "    if end is None:\n",
    "        end = len(array)-1\n",
    "    if start == end:\n",
    "        return array[start]\n",
    "    pivot_idx = randint(start, end)  # choose random pivot\n",
    "    pivot_idx = partition(array, start, end, pivot_idx)\n",
    "    if k == pivot_idx:\n",
    "        return array[k]\n",
    "    elif k < pivot_idx:\n",
    "        end = pivot_idx - 1\n",
    "    else: \n",
    "        start = pivot_idx + 1\n",
    "    return quick_select(array, k, start, end)"
   ]
  },
  {
   "cell_type": "markdown",
   "metadata": {},
   "source": [
    "<h4>Check</h4>"
   ]
  },
  {
   "cell_type": "code",
   "execution_count": 195,
   "metadata": {},
   "outputs": [
    {
     "name": "stdout",
     "output_type": "stream",
     "text": [
      "[7, 10, 5, 7, 12, 10, 13, 19, 17, 3]\n",
      "[3, 5, 7, 7, 10, 10, 12, 13, 17, 19]\n"
     ]
    },
    {
     "data": {
      "text/plain": [
       "5"
      ]
     },
     "execution_count": 195,
     "metadata": {},
     "output_type": "execute_result"
    }
   ],
   "source": [
    "from random import randint\n",
    "\n",
    "array = [randint(0, 20) for _ in range(10)]\n",
    "k = 1\n",
    "print(array)\n",
    "print(sorted(array))\n",
    "quick_select(array, k)"
   ]
  },
  {
   "cell_type": "markdown",
   "metadata": {},
   "source": [
    "<hr>\n",
    "<h2>Median selected as pivot</h2>\n",
    "<h4>Code</h4>"
   ]
  },
  {
   "cell_type": "code",
   "execution_count": 40,
   "metadata": {},
   "outputs": [],
   "source": [
    "def median_select(array, k):\n",
    "    pass"
   ]
  },
  {
   "cell_type": "markdown",
   "metadata": {},
   "source": [
    "<h4>Check</h4>"
   ]
  },
  {
   "cell_type": "code",
   "execution_count": 41,
   "metadata": {},
   "outputs": [
    {
     "name": "stdout",
     "output_type": "stream",
     "text": [
      "[17, 4, 8, 19, 1, 14, 15, 2, 13, 7]\n",
      "[1, 2, 4, 7, 8, 13, 14, 15, 17, 19]\n"
     ]
    }
   ],
   "source": [
    "from random import randint\n",
    "\n",
    "array = [randint(0, 20) for _ in range(10)]\n",
    "k = 1\n",
    "print(array)\n",
    "print(sorted(array))\n",
    "median_select(array, k)"
   ]
  },
  {
   "cell_type": "code",
   "execution_count": null,
   "metadata": {},
   "outputs": [],
   "source": []
  }
 ],
 "metadata": {
  "kernelspec": {
   "display_name": "Python 3",
   "language": "python",
   "name": "python3"
  },
  "language_info": {
   "codemirror_mode": {
    "name": "ipython",
    "version": 3
   },
   "file_extension": ".py",
   "mimetype": "text/x-python",
   "name": "python",
   "nbconvert_exporter": "python",
   "pygments_lexer": "ipython3",
   "version": "3.8.2"
  }
 },
 "nbformat": 4,
 "nbformat_minor": 1
}
