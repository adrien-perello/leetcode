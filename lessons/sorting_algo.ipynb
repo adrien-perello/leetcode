{
 "cells": [
  {
   "cell_type": "markdown",
   "metadata": {},
   "source": [
    "<h1>Sorting Algorithms</h1>\n",
    "<hr>\n",
    "<h2>Quick Sort</h2>\n",
    "<h4>Code</h4>"
   ]
  },
  {
   "cell_type": "code",
   "execution_count": 72,
   "metadata": {},
   "outputs": [],
   "source": [
    "from random import randint\n",
    "\n",
    "\n",
    "def partition(array, left, right, pivot_idx): \n",
    "    \"\"\" Hoare partition \n",
    "    elements less than the pivot are pushed to the left of 'pivot_idx';\n",
    "    elements more than the pivot are pushed to the right of 'pivot_idx';\n",
    "    equal elements can go either way\n",
    "    \"\"\"\n",
    "    pivot = array[pivot_idx]\n",
    "    array[right], array[pivot_idx] = pivot, array[right]  # move pivot to the end\n",
    "    pivot_idx = left  # update pivot_idx\n",
    "\n",
    "    for i in range(left, right):\n",
    "        if array[i] < pivot:                                         # move smaller element\n",
    "            array[pivot_idx], array[i] = array[i], array[pivot_idx]  # to the left (of pivot)\n",
    "            pivot_idx += 1                                           # increment pivot_idx\n",
    "    array[pivot_idx], array[right] = array[right], array[pivot_idx]  # move pivot to final place\n",
    "    return pivot_idx\n",
    "\n",
    "\n",
    "def quick_sort(array, start=0, end=None):\n",
    "    \"\"\"\n",
    "    Time Complexity: O(nlog n) on average O(n²) in worst case (improbable)\n",
    "    Space Complexity: O(log n)\n",
    "    \"\"\"\n",
    "    if end is None:\n",
    "        end = len(array)-1\n",
    "    if start < end:\n",
    "        idx = randint(start, end)  # choose random pivot\n",
    "        pivot_idx = partition(array, start, end, idx)\n",
    "        quick_sort(array, start, pivot_idx-1)\n",
    "        quick_sort(array, pivot_idx+1, end)"
   ]
  },
  {
   "cell_type": "markdown",
   "metadata": {},
   "source": [
    "<h4>Check</h4>"
   ]
  },
  {
   "cell_type": "code",
   "execution_count": 73,
   "metadata": {
    "scrolled": true
   },
   "outputs": [
    {
     "name": "stdout",
     "output_type": "stream",
     "text": [
      "[26, 39, 17, 23, 0, 20, 38, 38, 31, 2, 18, 27, 40, 35, 1, 18, 32, 29, 40, 34]\n",
      "[0, 1, 2, 17, 18, 18, 20, 23, 26, 27, 29, 31, 32, 34, 35, 38, 38, 39, 40, 40]\n"
     ]
    }
   ],
   "source": [
    "array = [randint(0,40) for _ in range(20)]\n",
    "print(array)\n",
    "quick_sort(array)\n",
    "print(array)"
   ]
  },
  {
   "cell_type": "markdown",
   "metadata": {},
   "source": [
    "<h2>Merge Sort</h2>\n",
    "<h4>Code</h4>"
   ]
  },
  {
   "cell_type": "code",
   "execution_count": 3,
   "metadata": {},
   "outputs": [],
   "source": [
    "def merge_sort(array, start=0, end=None):\n",
    "    pass"
   ]
  },
  {
   "cell_type": "markdown",
   "metadata": {},
   "source": [
    "<h4>Check</h4>"
   ]
  },
  {
   "cell_type": "code",
   "execution_count": 4,
   "metadata": {},
   "outputs": [
    {
     "name": "stdout",
     "output_type": "stream",
     "text": [
      "[32, 13, 6, 12, 38, 29, 33, 37, 30, 32, 0, 1, 7, 24, 16, 0, 38, 5, 18, 14]\n",
      "[32, 13, 6, 12, 38, 29, 33, 37, 30, 32, 0, 1, 7, 24, 16, 0, 38, 5, 18, 14]\n"
     ]
    }
   ],
   "source": [
    "array = [randint(0,40) for _ in range(20)]\n",
    "print(array)\n",
    "merge_sort(array)\n",
    "print(array)"
   ]
  },
  {
   "cell_type": "markdown",
   "metadata": {},
   "source": [
    "<h2>Radix Sort</h2>\n",
    "<h4>Code</h4>"
   ]
  },
  {
   "cell_type": "code",
   "execution_count": 5,
   "metadata": {},
   "outputs": [],
   "source": [
    "def radix_sort(array, start=0, end=None):\n",
    "    pass"
   ]
  },
  {
   "cell_type": "markdown",
   "metadata": {},
   "source": [
    "<h4>Check</h4>"
   ]
  },
  {
   "cell_type": "code",
   "execution_count": 6,
   "metadata": {},
   "outputs": [
    {
     "name": "stdout",
     "output_type": "stream",
     "text": [
      "[27, 31, 22, 1, 20, 15, 38, 13, 16, 17, 21, 28, 35, 29, 16, 13, 38, 9, 26, 35]\n",
      "[27, 31, 22, 1, 20, 15, 38, 13, 16, 17, 21, 28, 35, 29, 16, 13, 38, 9, 26, 35]\n"
     ]
    }
   ],
   "source": [
    "array = [randint(0,40) for _ in range(20)]\n",
    "print(array)\n",
    "radix_sort(array)\n",
    "print(array)"
   ]
  },
  {
   "cell_type": "markdown",
   "metadata": {},
   "source": [
    "<h2>Heap Sort</h2>\n",
    "<h4>Code</h4>"
   ]
  },
  {
   "cell_type": "code",
   "execution_count": 7,
   "metadata": {},
   "outputs": [],
   "source": [
    "def heap_sort(array, start=0, end=None):\n",
    "    pass"
   ]
  },
  {
   "cell_type": "markdown",
   "metadata": {},
   "source": [
    "<h4>Check</h4>"
   ]
  },
  {
   "cell_type": "code",
   "execution_count": 8,
   "metadata": {},
   "outputs": [
    {
     "name": "stdout",
     "output_type": "stream",
     "text": [
      "[1, 38, 30, 33, 18, 38, 21, 12, 23, 15, 38, 4, 34, 32, 0, 6, 6, 24, 3, 16]\n",
      "[1, 38, 30, 33, 18, 38, 21, 12, 23, 15, 38, 4, 34, 32, 0, 6, 6, 24, 3, 16]\n"
     ]
    }
   ],
   "source": [
    "array = [randint(0,40) for _ in range(20)]\n",
    "print(array)\n",
    "heap_sort(array)\n",
    "print(array)"
   ]
  },
  {
   "cell_type": "markdown",
   "metadata": {},
   "source": [
    "<h2>Bubble Sort</h2>\n",
    "<h4>Code</h4>"
   ]
  },
  {
   "cell_type": "code",
   "execution_count": 9,
   "metadata": {},
   "outputs": [],
   "source": [
    "def _sort(array, start=0, end=None):\n",
    "    pass"
   ]
  },
  {
   "cell_type": "markdown",
   "metadata": {},
   "source": [
    "<h4>Check</h4>"
   ]
  },
  {
   "cell_type": "code",
   "execution_count": 10,
   "metadata": {},
   "outputs": [
    {
     "name": "stdout",
     "output_type": "stream",
     "text": [
      "[5, 28, 27, 12, 4, 23, 14, 34, 31, 23, 36, 19, 36, 36, 6, 35, 30, 25, 12, 11]\n",
      "[5, 28, 27, 12, 4, 23, 14, 34, 31, 23, 36, 19, 36, 36, 6, 35, 30, 25, 12, 11]\n"
     ]
    }
   ],
   "source": [
    "array = [randint(0,40) for _ in range(20)]\n",
    "print(array)\n",
    "heap_sort(array)\n",
    "print(array)"
   ]
  },
  {
   "cell_type": "markdown",
   "metadata": {},
   "source": [
    "<h2>Selection Sort</h2>\n",
    "<h4>Code</h4>"
   ]
  },
  {
   "cell_type": "code",
   "execution_count": 11,
   "metadata": {},
   "outputs": [],
   "source": [
    "def selection_sort(array, start=0, end=None):\n",
    "    pass"
   ]
  },
  {
   "cell_type": "markdown",
   "metadata": {},
   "source": [
    "<h4>Check</h4>"
   ]
  },
  {
   "cell_type": "code",
   "execution_count": 12,
   "metadata": {},
   "outputs": [
    {
     "name": "stdout",
     "output_type": "stream",
     "text": [
      "[11, 32, 10, 35, 5, 0, 25, 1, 15, 26, 24, 12, 4, 20, 7, 12, 6, 1, 8, 16]\n",
      "[11, 32, 10, 35, 5, 0, 25, 1, 15, 26, 24, 12, 4, 20, 7, 12, 6, 1, 8, 16]\n"
     ]
    }
   ],
   "source": [
    "array = [randint(0,40) for _ in range(20)]\n",
    "print(array)\n",
    "selection_sort(array)\n",
    "print(array)"
   ]
  },
  {
   "cell_type": "markdown",
   "metadata": {},
   "source": [
    "<h2>Insertion Sort</h2>\n",
    "<h4>Code</h4>"
   ]
  },
  {
   "cell_type": "code",
   "execution_count": 13,
   "metadata": {},
   "outputs": [],
   "source": [
    "def insertion_sort(array, start=0, end=None):\n",
    "    pass"
   ]
  },
  {
   "cell_type": "markdown",
   "metadata": {},
   "source": [
    "<h4>Check</h4>"
   ]
  },
  {
   "cell_type": "code",
   "execution_count": 14,
   "metadata": {},
   "outputs": [
    {
     "name": "stdout",
     "output_type": "stream",
     "text": [
      "[7, 33, 17, 7, 13, 24, 0, 26, 18, 0, 17, 20, 17, 21, 14, 0, 29, 9, 10, 32]\n",
      "[7, 33, 17, 7, 13, 24, 0, 26, 18, 0, 17, 20, 17, 21, 14, 0, 29, 9, 10, 32]\n"
     ]
    }
   ],
   "source": [
    "array = [randint(0,40) for _ in range(20)]\n",
    "print(array)\n",
    "insertion_sort(array)\n",
    "print(array)"
   ]
  },
  {
   "cell_type": "markdown",
   "metadata": {},
   "source": [
    "<h2>Counting Sort</h2>\n",
    "<h4>Code</h4>"
   ]
  },
  {
   "cell_type": "code",
   "execution_count": 15,
   "metadata": {},
   "outputs": [],
   "source": [
    "def counting_sort(array, start=0, end=None):\n",
    "    pass"
   ]
  },
  {
   "cell_type": "markdown",
   "metadata": {},
   "source": [
    "<h4>Check</h4>"
   ]
  },
  {
   "cell_type": "code",
   "execution_count": 16,
   "metadata": {},
   "outputs": [
    {
     "name": "stdout",
     "output_type": "stream",
     "text": [
      "[2, 28, 3, 17, 35, 24, 8, 10, 26, 36, 13, 39, 18, 9, 22, 23, 35, 12, 5, 15]\n",
      "[2, 28, 3, 17, 35, 24, 8, 10, 26, 36, 13, 39, 18, 9, 22, 23, 35, 12, 5, 15]\n"
     ]
    }
   ],
   "source": [
    "array = [randint(0,40) for _ in range(20)]\n",
    "print(array)\n",
    "counting_sort(array)\n",
    "print(array)"
   ]
  }
 ],
 "metadata": {
  "kernelspec": {
   "display_name": "Python 3",
   "language": "python",
   "name": "python3"
  },
  "language_info": {
   "codemirror_mode": {
    "name": "ipython",
    "version": 3
   },
   "file_extension": ".py",
   "mimetype": "text/x-python",
   "name": "python",
   "nbconvert_exporter": "python",
   "pygments_lexer": "ipython3",
   "version": "3.8.2"
  }
 },
 "nbformat": 4,
 "nbformat_minor": 1
}
