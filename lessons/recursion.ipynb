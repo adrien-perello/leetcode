{
 "cells": [
  {
   "cell_type": "markdown",
   "metadata": {},
   "source": [
    "<h1>Recursion</h1>\n",
    "<hr>\n",
    "<p><ul>\n",
    "    <li><b>Step 1:</b> Identify a recurrence relation between subproblems\n",
    "        <ul><li>Recurrence Relation</li></ul>\n",
    "        <ul><li>Base cases</li></ul>\n",
    "    </li>\n",
    "    <li><b>Step 2:</b> Covert the recurrence relation to recursion</li>\n",
    "    <li><b>Step 3:</b> Optimization 1 - Top Down DP - Add memoization to recursion</li>\n",
    "    <li><b>Step 4:</b> Optimization 2 - Bottom Up DP - Convert recursion to iteration</li>\n",
    "    <li><b>Step 5:</b> Optimization 3 - Fine Tuning - Reduce space</li>\n",
    "</ul></p>\n",
    "<hr>\n",
    "<p>Reminder of the <b>Master theorem</b>:</p>\n",
    "<p>if T(n) &#8804; aT(n/b) + O(n<sup>d</sup>)</p>\n",
    "<p>with:</p>\n",
    "<ul>\n",
    "\t<li>a ≥ 1   number of recursive calls</li>\n",
    "    <li>b > 1   input size shrinkage factor</li>\n",
    "    <li>d ≥ 0   summing time of \"combine step\"</li>\n",
    "</ul>\n",
    "\n",
    "<p>then</p>\n",
    "<ul>\n",
    "    <li>T(n) = O(n<sup>d</sup>)   | if a &#60; b<sup>d</sup></li>\n",
    "    <li>T(n) = O(n<sup>d</sup> log n)   | if a = b<sup>d</sup>   --> loga n = c logb n AND constant don't matter here</li>\n",
    "    <li>T(n) = O(n<sup>d</sup>logb a<sup>d</sup>)   | if a > b<sup>d</sup>   --> BUT constant matter in the exponent</li>\n",
    "</ul>"
   ]
  },
  {
   "cell_type": "code",
   "execution_count": null,
   "metadata": {},
   "outputs": [],
   "source": []
  }
 ],
 "metadata": {
  "kernelspec": {
   "display_name": "Python 3",
   "language": "python",
   "name": "python3"
  },
  "language_info": {
   "codemirror_mode": {
    "name": "ipython",
    "version": 3
   },
   "file_extension": ".py",
   "mimetype": "text/x-python",
   "name": "python",
   "nbconvert_exporter": "python",
   "pygments_lexer": "ipython3",
   "version": "3.8.2"
  }
 },
 "nbformat": 4,
 "nbformat_minor": 1
}
