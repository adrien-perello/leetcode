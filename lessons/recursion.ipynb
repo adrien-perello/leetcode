{
 "cells": [
  {
   "cell_type": "markdown",
   "metadata": {},
   "source": [
    "<h1>Recursion</h1>\n",
    "<hr>\n",
    "<h4>Pattern</h4>\n",
    "<p>&nbsp;</p>\n",
    "<p><ul>\n",
    "    <li><b>Step 1:</b> Identify a recurrence relation between subproblems\n",
    "        <ul><li>Recurrence Relation</li></ul>\n",
    "        <ul><li>Base cases</li></ul>\n",
    "    </li>\n",
    "    <li><b>Step 2:</b> Covert the recurrence relation to recursion</li>\n",
    "    <li><b>Step 3:</b> Optimization 1 - Top Down DP - Add memoization to recursion</li>\n",
    "    <li><b>Step 4:</b> Optimization 2 - Bottom Up DP - Convert recursion to iteration</li>\n",
    "    <li><b>Step 5:</b> Optimization 3 - Fine Tuning - Reduce space</li>\n",
    "</ul></p>"
   ]
  },
  {
   "cell_type": "markdown",
   "metadata": {},
   "source": [
    "<hr>\n",
    "<h4>Time Complexity (Master theorem)</h4>\n",
    "\n",
    "<p>&nbsp;</p>\n",
    "<p>if $T(n) ≤ aT(\\frac{n}{b}) + O(n^d)$</p>\n",
    "<p>with:</p>\n",
    "<ul>\n",
    "\t<li>a ≥ 1   number of recursive calls</li>\n",
    "    <li>b > 1   input size shrinkage factor</li>\n",
    "    <li>d ≥ 0   summing time of \"combine step\"</li>\n",
    "</ul>\n",
    "\n",
    "<p>then</p>\n",
    "<ul><li>$a < b^d ⇒ T(n) = O(n^d)$</li></ul>\n",
    "\n",
    "<ul><li>$a = b^d ⇒ T(n) = O(n^d log(n))$</li>\n",
    "    <ul><li>$a = b^d  ⇒ log_{a}(n) = c.log_{b}(n)$</li>\n",
    "        <li>constant doesn't matter here</li></ul>\n",
    "</ul>\n",
    "<ul>\n",
    "    <li>$a > b^d ⇒ T(n) = O(n^d log_{b}(a^d))$</li>\n",
    "    <ul><li>constant matters in the exponent</li></ul>\n",
    "</ul>"
   ]
  },
  {
   "cell_type": "markdown",
   "metadata": {},
   "source": [
    "<hr>\n",
    "<h1>Tail Recursion (Tail Call)</h1>\n",
    "<p>&nbsp;</p>\n",
    "<h4>Definition</h4>\n",
    "<!--Copy Paste Leetcode statement between-->\n",
    "<p>  \n",
    "When recursing, the stack of calls gets deeper and deeper, reaches the solution, then returns through all of the stack frames. This means that we need a call stack whose size is linear in the depth of the recursive calls\n",
    "</p>\n",
    "<p>\n",
    "Tail recursion is a special case of recursion where the calling function does no more computation after making a recursive call. Since the current recursive instance is done executing at that point, we don't need a call stack at all for all of the recursive calls, and can implement the final call as a simple jump, which saves us space.\n",
    "</p>\n",
    "<p>\n",
    "    However, not all programming languagessupport tail recursion optimization.\n",
    "</p>\n",
    "<!--Copy Paste Leetcode statement between-->\n",
    "\n",
    "<p>&nbsp;</p>\n",
    "<a href=\"https://www.wikiwand.com/en/Tail_call\">Source</a> "
   ]
  },
  {
   "cell_type": "markdown",
   "metadata": {},
   "source": [
    "<hr>\n",
    "<h4>Classic examples</h4>\n",
    "<p>&nbsp;</p>\n",
    "<p><b>Factorial</b> (1 recursive call)</p>"
   ]
  },
  {
   "cell_type": "code",
   "execution_count": 52,
   "metadata": {},
   "outputs": [],
   "source": [
    "def factorial(n):  # f(n) = n * f(n-1)  and f(0) = 1\n",
    "    def go(n, acc1):\n",
    "        if n == 0:\n",
    "            return acc1\n",
    "        return go(n-1, n*acc1)\n",
    "\n",
    "    return go(n, 1)"
   ]
  },
  {
   "cell_type": "code",
   "execution_count": 53,
   "metadata": {},
   "outputs": [
    {
     "name": "stdout",
     "output_type": "stream",
     "text": [
      "[1, 1, 2, 6, 24, 120, 720, 5040, 40320, 362880, 3628800]\n"
     ]
    }
   ],
   "source": [
    "# Check\n",
    "\n",
    "result = []\n",
    "for i in range(11):\n",
    "    result += factorial(i),\n",
    "print(result)\n",
    "# [1, 1, 2, 6, 24, 120, 720, 5040, 40320, 362880, 3628800]"
   ]
  },
  {
   "cell_type": "markdown",
   "metadata": {},
   "source": [
    "<p>&nbsp;</p>\n",
    "<p><b>Fibonnacci</b> (2 recursive calls)</p>"
   ]
  },
  {
   "cell_type": "code",
   "execution_count": 54,
   "metadata": {},
   "outputs": [],
   "source": [
    "def fibonnacci(n):  # f(n) = f(n-1) + f(n-2)  with f(0) = 0 and f(1) = 1  \n",
    "    def go(n, acc1, acc2):\n",
    "        if n == 0:\n",
    "            return acc1\n",
    "        if n == 1:\n",
    "            return acc2\n",
    "        return go(n-1, acc2, acc1+acc2)\n",
    "\n",
    "    return go(n, 0, 1)"
   ]
  },
  {
   "cell_type": "code",
   "execution_count": 55,
   "metadata": {},
   "outputs": [
    {
     "name": "stdout",
     "output_type": "stream",
     "text": [
      "[0, 1, 1, 2, 3, 5, 8, 13, 21, 34, 55]\n"
     ]
    }
   ],
   "source": [
    "#check\n",
    "\n",
    "result = []\n",
    "for i in range(11):\n",
    "    result += fibonnacci(i),\n",
    "print(result)\n",
    "# [0, 1, 1, 2, 3, 5, 8, 13, 21, 34, 55]"
   ]
  },
  {
   "cell_type": "markdown",
   "metadata": {},
   "source": [
    "<hr>\n",
    "<h4>Generalization</h4>\n",
    "\n",
    "<p>&nbsp;</p>\n",
    "<p><b>1 recursive call</b></p>\n",
    "\n",
    "<p>$f(n) = g(f(n-1))$</p>\n",
    "<p>$f(0) = C$</p>"
   ]
  },
  {
   "cell_type": "code",
   "execution_count": 56,
   "metadata": {},
   "outputs": [],
   "source": [
    "def func(n):\n",
    "    def go(n, acc1):\n",
    "        if n == 0:\n",
    "            return acc1\n",
    "        return go(n-1, g(acc1))\n",
    "\n",
    "    return go(n, C)"
   ]
  },
  {
   "cell_type": "code",
   "execution_count": 57,
   "metadata": {},
   "outputs": [
    {
     "name": "stdout",
     "output_type": "stream",
     "text": [
      "func(n) == check(n): True\n"
     ]
    }
   ],
   "source": [
    "# Test\n",
    "\n",
    "from math import sin\n",
    "from random import randint\n",
    "A, B, C = [randint(-10,10) for _ in range(3)]\n",
    "# print(\"A, B, C =\", A, B, C)\n",
    "\n",
    "\n",
    "def g(x):\n",
    "#     return A*x + B\n",
    "#     return A*x**2 - B*x\n",
    "    return A*sin(x) + B\n",
    "\n",
    "\n",
    "def func(n):\n",
    "    def go(n, acc1):\n",
    "        if n == 0:\n",
    "            return acc1\n",
    "        return go(n-1, g(acc1))\n",
    "\n",
    "    return go(n, C)\n",
    "\n",
    "\n",
    "def check(n):\n",
    "    if n == 0:\n",
    "        return C\n",
    "    return g(check(n-1))\n",
    "\n",
    "\n",
    "result = True\n",
    "for i in range(11):\n",
    "    result = result and func(i)== check(i)\n",
    "print (\"func(n) == check(n):\", result)"
   ]
  },
  {
   "cell_type": "markdown",
   "metadata": {},
   "source": [
    "<p>&nbsp;</p>\n",
    "<p><b>2 recursive calls</b></p>\n",
    "\n",
    "<p>$f(n) = g(f(n-1), f(n-2) )$</p>\n",
    "<p>$f(0) = D$</p>\n",
    "<p>$f(1) = E$</p>"
   ]
  },
  {
   "cell_type": "code",
   "execution_count": 58,
   "metadata": {},
   "outputs": [],
   "source": [
    "def func(n):\n",
    "    def go(n, acc1, acc2):\n",
    "        if n == 0:\n",
    "            return acc1\n",
    "        if n == 1:\n",
    "            return acc2\n",
    "        return go(n-1, acc2, g(acc2, acc1))  # reversed order for acc1 and acc2\n",
    "\n",
    "    return go(n, D, E)"
   ]
  },
  {
   "cell_type": "code",
   "execution_count": 59,
   "metadata": {
    "scrolled": true
   },
   "outputs": [
    {
     "name": "stdout",
     "output_type": "stream",
     "text": [
      "func(n) == check(n): True\n"
     ]
    }
   ],
   "source": [
    "# Test\n",
    "\n",
    "from math import sin\n",
    "from random import randint\n",
    "A, B, C, D, E = [randint(-10,10) for _ in range(5)]\n",
    "# print(\"A, B, C, D, E =\", A, B, C, D, E)\n",
    "\n",
    "\n",
    "def g(x, y):\n",
    "#     return A*x + B*y + C\n",
    "#     return min(A*sin(x), B*sin(y)) + C\n",
    "    return A*x**2 - B*x\n",
    "\n",
    "\n",
    "\n",
    "def func(n):\n",
    "    def go(n, acc1, acc2):\n",
    "        if n == 0:\n",
    "            return acc1\n",
    "        if n == 1:\n",
    "            return acc2\n",
    "        return go(n-1, acc2, g(acc2, acc1))\n",
    "\n",
    "    return go(n, D, E)\n",
    "\n",
    "\n",
    "def check(n):\n",
    "    if n == 0:\n",
    "        return D\n",
    "    if n == 1:\n",
    "        return E\n",
    "    return g(check(n-1), check(n-2))\n",
    "\n",
    "\n",
    "result = True\n",
    "for i in range(11):\n",
    "    result = result and func(i)== check(i)\n",
    "print (\"func(n) == check(n):\", result)"
   ]
  },
  {
   "cell_type": "markdown",
   "metadata": {},
   "source": [
    "<p>&nbsp;</p>\n",
    "<p><b>Continuation Passing Style</b></p>\n",
    "<p>Sometimes we can’t make a function tail-recursive by just adding an accumulator to its arguments and CPS is the easiest way to achieve getting the function tail-recursive.</p>\n",
    "<p>In CPS, instead of having a function return a value, it will take as an argument another function (the continuation) to which the result is given as an argument.</p>\n",
    "<p>&nbsp;</p>\n",
    "<p>Simple tail recursion applied to leetcode problems:</p>\n",
    "<ul>\n",
    "    <li>70</li></ul>\n",
    "\n",
    "<p>Leetcode problems that might need CPS</p>\n",
    "<ul>\n",
    "    <li>746</li>\n",
    "</ul>"
   ]
  }
 ],
 "metadata": {
  "kernelspec": {
   "display_name": "Python 3",
   "language": "python",
   "name": "python3"
  },
  "language_info": {
   "codemirror_mode": {
    "name": "ipython",
    "version": 3
   },
   "file_extension": ".py",
   "mimetype": "text/x-python",
   "name": "python",
   "nbconvert_exporter": "python",
   "pygments_lexer": "ipython3",
   "version": "3.8.2"
  }
 },
 "nbformat": 4,
 "nbformat_minor": 1
}
